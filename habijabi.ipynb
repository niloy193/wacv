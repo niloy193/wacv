{
 "cells": [
  {
   "cell_type": "code",
   "execution_count": 1,
   "metadata": {},
   "outputs": [],
   "source": [
    "import torch.nn as nn\n",
    "import torch.nn.functional as F\n",
    "import numpy as np\n",
    "import torch\n",
    "import os\n",
    "import cv2\n",
    "import torchshow as ts\n",
    "from tqdm import tqdm\n",
    "from dataloader.loader import generator\n",
    "import yaml\n",
    "import utils.utils as ut\n",
    "ut.set_random_seed(1221)\n",
    "with open('config/config.yaml', 'r') as file:\n",
    "    cfg = yaml.load(file, Loader=yaml.FullLoader)"
   ]
  },
  {
   "cell_type": "code",
   "execution_count": 2,
   "metadata": {},
   "outputs": [
    {
     "data": {
      "text/plain": [
       "5.4"
      ]
     },
     "execution_count": 2,
     "metadata": {},
     "output_type": "execute_result"
    }
   ],
   "source": [
    "54*0.1"
   ]
  },
  {
   "cell_type": "code",
   "execution_count": 2,
   "metadata": {},
   "outputs": [],
   "source": [
    "from model.mantranet import MantraNet\n",
    "use_cuda = torch.cuda.is_available()\n",
    "device = torch.device(\"cuda:0\" if use_cuda else \"cpu\")\n",
    "model=MantraNet(device=device).cuda()"
   ]
  },
  {
   "cell_type": "code",
   "execution_count": 3,
   "metadata": {},
   "outputs": [],
   "source": [
    "ut.set_random_seed(1221)\n",
    "gnr = generator(cfg)\n",
    "train_gen = gnr.get_train_generator()\n",
    "val_gen = gnr.get_val_generator()"
   ]
  },
  {
   "cell_type": "code",
   "execution_count": 8,
   "metadata": {},
   "outputs": [
    {
     "name": "stderr",
     "output_type": "stream",
     "text": [
      "  0%|          | 0/275 [00:00<?, ?it/s]"
     ]
    },
    {
     "name": "stdout",
     "output_type": "stream",
     "text": [
      "torch.Size([2, 1, 224, 224])\n"
     ]
    },
    {
     "name": "stderr",
     "output_type": "stream",
     "text": [
      "\n"
     ]
    }
   ],
   "source": [
    "for img, mask in tqdm(val_gen):\n",
    "    out = model(img.cuda())\n",
    "    print(out.shape)\n",
    "    break\n",
    "    "
   ]
  },
  {
   "cell_type": "code",
   "execution_count": 9,
   "metadata": {},
   "outputs": [
    {
     "name": "stdout",
     "output_type": "stream",
     "text": [
      "torch.Size([2, 224, 224])\n"
     ]
    }
   ],
   "source": [
    "_, predict = torch.max(out, 1)\n",
    "print(predict.shape)"
   ]
  },
  {
   "cell_type": "code",
   "execution_count": 7,
   "metadata": {},
   "outputs": [
    {
     "name": "stdout",
     "output_type": "stream",
     "text": [
      "torch.Size([2, 224, 224])\n"
     ]
    }
   ],
   "source": [
    "print(out.shape)"
   ]
  },
  {
   "cell_type": "code",
   "execution_count": 19,
   "metadata": {},
   "outputs": [
    {
     "name": "stderr",
     "output_type": "stream",
     "text": [
      "100%|██████████| 921/921 [00:00<00:00, 3617.50it/s]\n"
     ]
    }
   ],
   "source": [
    "count = 0\n",
    "from tqdm import tqdm\n",
    "for i in tqdm(range(len(casiav1_files))):\n",
    "    filename = casiav1_files[i].split('.')[0]\n",
    "    for j in range(len(casiav1_masks)):\n",
    "        mask_name = casiav1_masks[j].split('.')[0].split('_gt')[0]\n",
    "        if filename == mask_name:\n",
    "            f = open('/home/agency/xai/forgery/wacv/dataloader/casiav1_train.txt', \"a\")\n",
    "            f.write(casiav1_files[i] + \"\\n\")\n",
    "            f.close()\n",
    "            f = open('/home/agency/xai/forgery/wacv/dataloader/casiav1_mask.txt', \"a\")\n",
    "            f.write(casiav1_masks[j] + \"\\n\")\n",
    "            f.close()\n",
    "            "
   ]
  },
  {
   "cell_type": "code",
   "execution_count": 15,
   "metadata": {},
   "outputs": [
    {
     "name": "stdout",
     "output_type": "stream",
     "text": [
      "Sp_D_NNN_R_cha0084_sec0061_0369_gt.png\n",
      "Sp_D_NNN_R_cha0084_sec0061_0369.jpg\n"
     ]
    }
   ],
   "source": [
    "print(casiav1_masks[j])\n",
    "print(casiav1_files[i])"
   ]
  },
  {
   "cell_type": "code",
   "execution_count": 17,
   "metadata": {},
   "outputs": [
    {
     "data": {
      "text/plain": [
       "(256, 384)"
      ]
     },
     "execution_count": 17,
     "metadata": {},
     "output_type": "execute_result"
    }
   ],
   "source": [
    "msk = cv2.imread('/home/agency/xai/forgery/CASIA1/Gt/Sp/Sp_D_NNN_R_cha0084_sec0061_0369_gt.png',0)\n",
    "msk.shape"
   ]
  },
  {
   "cell_type": "code",
   "execution_count": null,
   "metadata": {},
   "outputs": [],
   "source": [
    "with open('config/config.yaml', 'r') as file:\n",
    "    cfg = yaml.load(file, Loader=yaml.FullLoader)\n",
    "\n",
    "train = train_generator(cfg)\n",
    "val = val_generator(cfg)"
   ]
  }
 ],
 "metadata": {
  "interpreter": {
   "hash": "e470db166faf928c816a3c4594623f758f5f8b390569cb68da693a2d6ba357bd"
  },
  "kernelspec": {
   "display_name": "Python 3.8.5 ('xai')",
   "language": "python",
   "name": "python3"
  },
  "language_info": {
   "codemirror_mode": {
    "name": "ipython",
    "version": 3
   },
   "file_extension": ".py",
   "mimetype": "text/x-python",
   "name": "python",
   "nbconvert_exporter": "python",
   "pygments_lexer": "ipython3",
   "version": "3.8.5"
  },
  "orig_nbformat": 4
 },
 "nbformat": 4,
 "nbformat_minor": 2
}
