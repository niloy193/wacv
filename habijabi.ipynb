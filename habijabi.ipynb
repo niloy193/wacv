{
 "cells": [
  {
   "cell_type": "code",
   "execution_count": 1,
   "metadata": {},
   "outputs": [],
   "source": [
    "import torch.nn as nn\n",
    "import torch.nn.functional as F\n",
    "import numpy as np\n",
    "import torch\n",
    "import os\n",
    "import cv2\n",
    "import torchshow as ts\n",
    "from tqdm import tqdm\n",
    "from dataloader.loader import generator\n",
    "import yaml\n",
    "import utils.utils as ut\n",
    "import matplotlib.pyplot as plt\n",
    "import math\n",
    "ut.set_random_seed(1221)\n",
    "with open('config/config.yaml', 'r') as file:\n",
    "    cfg = yaml.load(file, Loader=yaml.FullLoader)"
   ]
  },
  {
   "cell_type": "code",
   "execution_count": 9,
   "metadata": {},
   "outputs": [
    {
     "name": "stdout",
     "output_type": "stream",
     "text": [
      "0.499586464589324\n"
     ]
    }
   ],
   "source": [
    "from sklearn import metrics\n",
    "y_true = torch.randint(0,2,(2,224,224)).numpy()\n",
    "y_pred = torch.randn((2,224,224)).numpy()\n",
    "auc = []\n",
    "for yy_true, yy_pred in zip( y_true, y_pred ) :\n",
    "    val_auc = metrics.roc_auc_score(yy_true.ravel(), yy_pred.ravel(), average = None)\n",
    "    auc.append(val_auc)\n",
    "print(np.mean(auc))"
   ]
  },
  {
   "cell_type": "code",
   "execution_count": null,
   "metadata": {},
   "outputs": [],
   "source": [
    "torch.rand"
   ]
  },
  {
   "cell_type": "code",
   "execution_count": 1,
   "metadata": {},
   "outputs": [
    {
     "name": "stdout",
     "output_type": "stream",
     "text": [
      "torch.Size([2, 224, 224])\n"
     ]
    }
   ],
   "source": [
    "import torch\n",
    "a = torch.randn((2,2,224,224))\n",
    "a = a[:,1,:,:]\n",
    "print(a.shape)"
   ]
  },
  {
   "cell_type": "code",
   "execution_count": null,
   "metadata": {},
   "outputs": [],
   "source": [
    "pip install torchmetrics"
   ]
  },
  {
   "cell_type": "code",
   "execution_count": null,
   "metadata": {},
   "outputs": [],
   "source": [
    "root_dir = '/home/agency/xai/forgery/IMD2020'\n",
    "all_files = os.listdir(root_dir)\n",
    "train_all_IDs = {}\n",
    "mask_all_IDs = {}\n",
    "count = 0\n",
    "for files in all_files:\n",
    "    all_file = os.listdir(os.path.join(root_dir,files))\n",
    "    for file_name in all_file:\n",
    "        if len(file_name.split('_0.jpg'))==2:\n",
    "            train_all_IDs[count] = files+'/'+file_name\n",
    "            mask_all_IDs[count] = files+'/'+file_name.split('_0.jpg')[0]+'_0_mask.png'\n",
    "            count +=1\n",
    "rand = np.random.choice(len(train_all_IDs), math.ceil(len(train_all_IDs)*0.1), replace=False).tolist()\n",
    "\n",
    "train_IDs = {}\n",
    "mask_IDs = {}\n",
    "test_IDs = {}\n",
    "mask_test_IDs = {}\n",
    "\n",
    "count = 0\n",
    "test_count = 0\n",
    "for i in range(len(train_all_IDs)):\n",
    "    if i in rand:\n",
    "        test_IDs[test_count] = os.path.join(root_dir,train_all_IDs[i])\n",
    "        mask_test_IDs[test_count] = os.path.join(root_dir,mask_all_IDs[i])\n",
    "        test_count += 1\n",
    "    else:\n",
    "        train_IDs[count] = os.path.join(root_dir,train_all_IDs[i])\n",
    "        mask_IDs[count] = os.path.join(root_dir,mask_all_IDs[i])\n",
    "        count += 1"
   ]
  }
 ],
 "metadata": {
  "interpreter": {
   "hash": "e470db166faf928c816a3c4594623f758f5f8b390569cb68da693a2d6ba357bd"
  },
  "kernelspec": {
   "display_name": "Python 3.8.5 ('xai')",
   "language": "python",
   "name": "python3"
  },
  "language_info": {
   "codemirror_mode": {
    "name": "ipython",
    "version": 3
   },
   "file_extension": ".py",
   "mimetype": "text/x-python",
   "name": "python",
   "nbconvert_exporter": "python",
   "pygments_lexer": "ipython3",
   "version": "3.8.5"
  },
  "orig_nbformat": 4
 },
 "nbformat": 4,
 "nbformat_minor": 2
}
