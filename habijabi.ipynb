{
 "cells": [
  {
   "cell_type": "code",
   "execution_count": 1,
   "metadata": {},
   "outputs": [],
   "source": [
    "import torch.nn as nn\n",
    "import torch.nn.functional as F\n",
    "import numpy as np\n",
    "import torch\n",
    "import os\n",
    "import cv2\n",
    "import torchshow as ts\n",
    "from tqdm import tqdm\n",
    "from dataloader.loader import generator\n",
    "import yaml\n",
    "import utils.utils as ut\n",
    "import matplotlib.pyplot as plt\n",
    "import math\n",
    "ut.set_random_seed(1221)\n",
    "with open('config/config.yaml', 'r') as file:\n",
    "    cfg = yaml.load(file, Loader=yaml.FullLoader)"
   ]
  },
  {
   "cell_type": "code",
   "execution_count": 98,
   "metadata": {},
   "outputs": [
    {
     "name": "stdout",
     "output_type": "stream",
     "text": [
      "torch.Size([2, 256, 784])\n"
     ]
    }
   ],
   "source": [
    "mask = torch.randint(0,2,(2,9,9)).float()\n",
    "cfeature = torch.randn((2,256,224,224))\n",
    "p_len = 8\n",
    "cfeature = F.avg_pool2d(cfeature, kernel_size = p_len, stride=p_len)\n",
    "Ba, Ch,_,_ = cfeature.shape\n",
    "cfeature = cfeature.view(Ba, Ch, -1)\n",
    "print(cfeature.shape)\n",
    "cfeature = F.normalize(cfeature, dim = -1)"
   ]
  },
  {
   "cell_type": "code",
   "execution_count": 6,
   "metadata": {},
   "outputs": [
    {
     "data": {
      "text/plain": [
       "6"
      ]
     },
     "execution_count": 6,
     "metadata": {},
     "output_type": "execute_result"
    }
   ],
   "source": [
    "(224//33)"
   ]
  },
  {
   "cell_type": "code",
   "execution_count": 97,
   "metadata": {},
   "outputs": [
    {
     "name": "stdout",
     "output_type": "stream",
     "text": [
      "tensor([[[ 0.5286,  0.9433],\n",
      "         [-1.1991, -1.0777],\n",
      "         [-0.8163,  1.0610],\n",
      "         [ 1.1719, -0.8381],\n",
      "         [ 0.2265,  1.5756]],\n",
      "\n",
      "        [[ 0.8349,  0.2023],\n",
      "         [ 0.2397,  0.8597],\n",
      "         [-0.6907,  1.0505],\n",
      "         [ 0.1328,  0.6613],\n",
      "         [ 1.1501,  0.3399]]])\n",
      "tensor([[[ 0.5286, -1.1991, -0.8163,  1.1719,  0.2265],\n",
      "         [ 0.9433, -1.0777,  1.0610, -0.8381,  1.5756]],\n",
      "\n",
      "        [[ 0.8349,  0.2397, -0.6907,  0.1328,  1.1501],\n",
      "         [ 0.2023,  0.8597,  1.0505,  0.6613,  0.3399]]])\n",
      "torch.Size([2, 2, 5])\n"
     ]
    }
   ],
   "source": [
    "a = torch.randn((2,5,2))\n",
    "print(a)\n",
    "a = torch.transpose(a,1,2)\n",
    "print(a)\n",
    "print(a.shape)"
   ]
  },
  {
   "cell_type": "code",
   "execution_count": 85,
   "metadata": {},
   "outputs": [],
   "source": [
    "temperature = 0.6\n",
    "mem_mask = torch.eq(mask, mask.transpose(1,2)).float()\n",
    "mem_mask_neg = torch.add(torch.negative(mem_mask),1)\n",
    "\n",
    "\n",
    "feat_logits =  torch.div(torch.matmul(feat, feat.transpose(1,2)),temperature)\n",
    "identity = torch.eye(feat_logits.shape[-1])\n",
    "neg_identity = torch.add(torch.negative(identity),1).detach()\n",
    "\n",
    "feat_logits = torch.mul(feat_logits, neg_identity)\n",
    "\n",
    "feat_logits_max, _ = torch.max(feat_logits, dim=1, keepdim=True)\n",
    "feat_logits = feat_logits - feat_logits_max.detach()\n",
    "\n",
    "feat_logits = torch.exp(feat_logits)\n",
    "\n",
    "neg_sum = torch.sum(torch.mul(feat_logits, mem_mask_neg), dim=-1)\n",
    "denominator = torch.add(feat_logits, neg_sum.unsqueeze(dim=-1))\n",
    "division = torch.div(feat_logits, denominator+ 1e-18)\n",
    "    \n",
    "loss_matrix = -torch.log(division+1e-18)\n",
    "loss_matrix = torch.mul(loss_matrix , mem_mask)\n",
    "loss_matrix = torch.mul(loss_matrix, neg_identity)\n",
    "loss = torch.sum(loss_matrix, dim=-1)\n",
    "\n",
    "loss = torch.div(loss, mem_mask.sum(dim=-1) -1 + 1e-18)"
   ]
  },
  {
   "cell_type": "code",
   "execution_count": 86,
   "metadata": {},
   "outputs": [
    {
     "name": "stdout",
     "output_type": "stream",
     "text": [
      "tensor([[ 4.8780, 38.8191, 18.1363,  9.9295, 10.4101, 26.0503, 14.9004, 28.6080,\n",
      "          9.1373],\n",
      "        [ 7.9928, 20.7607, 21.2218, 21.2600, 10.7253, 36.6616, 36.6117, 30.1503,\n",
      "         31.6143]])\n"
     ]
    }
   ],
   "source": [
    "print(loss)"
   ]
  },
  {
   "cell_type": "code",
   "execution_count": 68,
   "metadata": {},
   "outputs": [
    {
     "data": {
      "text/plain": [
       "torch.Size([2, 9, 9])"
      ]
     },
     "execution_count": 68,
     "metadata": {},
     "output_type": "execute_result"
    }
   ],
   "source": [
    "denominator.shape"
   ]
  },
  {
   "cell_type": "code",
   "execution_count": 27,
   "metadata": {},
   "outputs": [
    {
     "name": "stdout",
     "output_type": "stream",
     "text": [
      "tensor([[[0., 0., 0., 0.],\n",
      "         [1., 1., 1., 1.],\n",
      "         [0., 1., 1., 1.],\n",
      "         [0., 1., 0., 0.]],\n",
      "\n",
      "        [[0., 0., 0., 0.],\n",
      "         [0., 1., 0., 0.],\n",
      "         [0., 0., 1., 0.],\n",
      "         [0., 0., 1., 0.]]])\n"
     ]
    }
   ],
   "source": []
  },
  {
   "cell_type": "code",
   "execution_count": 9,
   "metadata": {},
   "outputs": [
    {
     "name": "stdout",
     "output_type": "stream",
     "text": [
      "0.499586464589324\n"
     ]
    }
   ],
   "source": [
    "from sklearn import metrics\n",
    "y_true = torch.randint(0,2,(2,224,224)).numpy()\n",
    "y_pred = torch.randn((2,224,224)).numpy()\n",
    "auc = []\n",
    "for yy_true, yy_pred in zip( y_true, y_pred ) :\n",
    "    val_auc = metrics.roc_auc_score(yy_true.ravel(), yy_pred.ravel(), average = None)\n",
    "    auc.append(val_auc)\n",
    "print(np.mean(auc))"
   ]
  },
  {
   "cell_type": "code",
   "execution_count": null,
   "metadata": {},
   "outputs": [],
   "source": [
    "torch.rand"
   ]
  },
  {
   "cell_type": "code",
   "execution_count": 1,
   "metadata": {},
   "outputs": [
    {
     "name": "stdout",
     "output_type": "stream",
     "text": [
      "torch.Size([2, 224, 224])\n"
     ]
    }
   ],
   "source": [
    "import torch\n",
    "a = torch.randn((2,2,224,224))\n",
    "a = a[:,1,:,:]\n",
    "print(a.shape)"
   ]
  },
  {
   "cell_type": "code",
   "execution_count": null,
   "metadata": {},
   "outputs": [],
   "source": [
    "pip install torchmetrics"
   ]
  },
  {
   "cell_type": "code",
   "execution_count": null,
   "metadata": {},
   "outputs": [],
   "source": [
    "root_dir = '/home/agency/xai/forgery/IMD2020'\n",
    "all_files = os.listdir(root_dir)\n",
    "train_all_IDs = {}\n",
    "mask_all_IDs = {}\n",
    "count = 0\n",
    "for files in all_files:\n",
    "    all_file = os.listdir(os.path.join(root_dir,files))\n",
    "    for file_name in all_file:\n",
    "        if len(file_name.split('_0.jpg'))==2:\n",
    "            train_all_IDs[count] = files+'/'+file_name\n",
    "            mask_all_IDs[count] = files+'/'+file_name.split('_0.jpg')[0]+'_0_mask.png'\n",
    "            count +=1\n",
    "rand = np.random.choice(len(train_all_IDs), math.ceil(len(train_all_IDs)*0.1), replace=False).tolist()\n",
    "\n",
    "train_IDs = {}\n",
    "mask_IDs = {}\n",
    "test_IDs = {}\n",
    "mask_test_IDs = {}\n",
    "\n",
    "count = 0\n",
    "test_count = 0\n",
    "for i in range(len(train_all_IDs)):\n",
    "    if i in rand:\n",
    "        test_IDs[test_count] = os.path.join(root_dir,train_all_IDs[i])\n",
    "        mask_test_IDs[test_count] = os.path.join(root_dir,mask_all_IDs[i])\n",
    "        test_count += 1\n",
    "    else:\n",
    "        train_IDs[count] = os.path.join(root_dir,train_all_IDs[i])\n",
    "        mask_IDs[count] = os.path.join(root_dir,mask_all_IDs[i])\n",
    "        count += 1"
   ]
  }
 ],
 "metadata": {
  "interpreter": {
   "hash": "e470db166faf928c816a3c4594623f758f5f8b390569cb68da693a2d6ba357bd"
  },
  "kernelspec": {
   "display_name": "Python 3.8.5 ('xai')",
   "language": "python",
   "name": "python3"
  },
  "language_info": {
   "codemirror_mode": {
    "name": "ipython",
    "version": 3
   },
   "file_extension": ".py",
   "mimetype": "text/x-python",
   "name": "python",
   "nbconvert_exporter": "python",
   "pygments_lexer": "ipython3",
   "version": "3.8.5"
  },
  "orig_nbformat": 4
 },
 "nbformat": 4,
 "nbformat_minor": 2
}
